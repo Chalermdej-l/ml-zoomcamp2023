{
 "cells": [
  {
   "cell_type": "code",
   "execution_count": 23,
   "metadata": {},
   "outputs": [
    {
     "data": {
      "text/plain": [
       "(array([ 877., 3612., 4099., 3771., 2799., 1769., 1239.,  752.,  479.,\n",
       "        1243.]),\n",
       " array([ 14999. ,  63499.2, 111999.4, 160499.6, 208999.8, 257500. ,\n",
       "        306000.2, 354500.4, 403000.6, 451500.8, 500001. ]),\n",
       " <BarContainer object of 10 artists>)"
      ]
     },
     "execution_count": 23,
     "metadata": {},
     "output_type": "execute_result"
    },
    {
     "data": {
      "image/png": "[encoded data removed]",
      "text/plain": [
       "<Figure size 640x480 with 1 Axes>"
      ]
     },
     "metadata": {},
     "output_type": "display_data"
    }
   ],
   "source": [
    "import pandas as pd\n",
    "import numpy  as np\n",
    "from matplotlib  import pyplot as plt\n",
    "df = pd.read_csv('housing.csv')\n",
    "plt.hist(df['median_house_value'])"
   ]
  },
  {
   "cell_type": "code",
   "execution_count": 24,
   "metadata": {},
   "outputs": [
    {
     "data": {
      "text/plain": [
       "latitude                0\n",
       "longitude               0\n",
       "housing_median_age      0\n",
       "total_rooms             0\n",
       "total_bedrooms        157\n",
       "population              0\n",
       "households              0\n",
       "median_income           0\n",
       "median_house_value      0\n",
       "dtype: int64"
      ]
     },
     "execution_count": 24,
     "metadata": {},
     "output_type": "execute_result"
    }
   ],
   "source": [
    "# q1\n",
    "col = ['latitude','longitude','housing_median_age','total_rooms','total_bedrooms','population','households','median_income','median_house_value']\n",
    "df_file = df.query(\" ocean_proximity in ('<1H OCEAN','INLAND') \")[col]\n",
    "df_file.median_house_value =np.log1p(df_file.median_house_value)\n",
    "df_file.isnull().sum()"
   ]
  },
  {
   "cell_type": "code",
   "execution_count": 25,
   "metadata": {},
   "outputs": [
    {
     "data": {
      "text/plain": [
       "count    15687.000000\n",
       "mean      1466.317205\n",
       "std       1180.389908\n",
       "min          3.000000\n",
       "25%        802.000000\n",
       "50%       1195.000000\n",
       "75%       1777.000000\n",
       "max      35682.000000\n",
       "Name: population, dtype: float64"
      ]
     },
     "execution_count": 25,
     "metadata": {},
     "output_type": "execute_result"
    }
   ],
   "source": [
    "# Q2\n",
    "df_file.describe()['population']"
   ]
  },
  {
   "cell_type": "code",
   "execution_count": 26,
   "metadata": {},
   "outputs": [
    {
     "name": "stdout",
     "output_type": "stream",
     "text": [
      "0.11\n",
      "0.11\n"
     ]
    }
   ],
   "source": [
    "# Q3\n",
    "from sklearn.model_selection import train_test_split\n",
    "from sklearn.linear_model import LinearRegression\n",
    "from sklearn.metrics import mean_squared_error\n",
    "\n",
    "\n",
    "\n",
    "train,test = train_test_split(df_file,test_size=0.4,shuffle=True,random_state=42)\n",
    "test,val = train_test_split(test,test_size=0.5,shuffle=True,random_state=42)\n",
    "\n",
    "train_fill0 = train.fillna(0)\n",
    "train_fillmean = train.fillna(train.total_bedrooms.mean())\n",
    "\n",
    "train_y = train_fill0.median_house_value.values\n",
    "train_X = train_fill0.drop('median_house_value',axis=1)\n",
    "train_ymean = train_fillmean.median_house_value.values\n",
    "train_Xmean = train_fillmean.drop('median_house_value',axis=1)\n",
    "\n",
    "model_a = LinearRegression()\n",
    "model_a = model_a.fit(train_X,train_y)\n",
    "model_b = LinearRegression()\n",
    "model_b = model_b.fit(train_Xmean,train_ymean)\n",
    "\n",
    "val0 = val.fillna(0)\n",
    "valmean = val.fillna(val.total_bedrooms.mean())\n",
    "\n",
    "val_y = val0.median_house_value.values\n",
    "val_X = val0.drop('median_house_value',axis=1)\n",
    "\n",
    "val_y_mean = valmean.median_house_value.values\n",
    "val_X_mean = valmean.drop('median_house_value',axis=1)\n",
    "\n",
    "pred= model_a.predict(val_X)\n",
    "pred2= model_b.predict(val_X_mean)\n",
    "print(mean_squared_error(pred,val_y,squared=True).round(2))\n",
    "print(mean_squared_error(pred2,val_y_mean,squared=True).round(2))"
   ]
  },
  {
   "cell_type": "code",
   "execution_count": 31,
   "metadata": {},
   "outputs": [
    {
     "name": "stdout",
     "output_type": "stream",
     "text": [
      "0\n",
      "0.113752\n",
      "--------------\n",
      "1e-06\n",
      "0.113752\n",
      "--------------\n",
      "0.0001\n",
      "0.113752\n",
      "--------------\n",
      "0.001\n",
      "0.113752\n",
      "--------------\n",
      "0.01\n",
      "0.113752\n",
      "--------------\n",
      "0.1\n",
      "0.113752\n",
      "--------------\n",
      "1\n",
      "0.113751\n",
      "--------------\n",
      "5\n",
      "0.113749\n",
      "--------------\n",
      "10\n",
      "0.113745\n",
      "--------------\n"
     ]
    }
   ],
   "source": [
    "# Q4\n",
    "from sklearn.model_selection import train_test_split\n",
    "from sklearn.linear_model import LinearRegression,Ridge\n",
    "from sklearn.metrics import mean_squared_error\n",
    "import numpy  as np\n",
    "\n",
    "\n",
    "train,test = train_test_split(df_file,test_size=0.4,shuffle=True,random_state=42)\n",
    "test,val = train_test_split(test,test_size=0.5,shuffle=True,random_state=42)\n",
    "\n",
    "train_fill0 = train.fillna(0)\n",
    "\n",
    "train_y = train_fill0.median_house_value.values\n",
    "train_X = train_fill0.drop('median_house_value',axis=1)\n",
    "\n",
    "val0 = val.fillna(0)\n",
    "val_y = val0.median_house_value.values\n",
    "val_X = val0.drop('median_house_value',axis=1)\n",
    "\n",
    "for r in [0, 0.000001, 0.0001, 0.001, 0.01, 0.1, 1, 5, 10]:       \n",
    "\n",
    "    model_a = Ridge(alpha=r)\n",
    "    model_a = model_a.fit(train_X,train_y)      \n",
    "    pred= model_a.predict(val_X)\n",
    "    print(r)\n",
    "    print(mean_squared_error(pred,val_y,squared=True).round(6))\n",
    "    print('--------------')"
   ]
  },
  {
   "cell_type": "code",
   "execution_count": 37,
   "metadata": {},
   "outputs": [
    {
     "data": {
      "text/plain": [
       "0.004"
      ]
     },
     "execution_count": 37,
     "metadata": {},
     "output_type": "execute_result"
    }
   ],
   "source": [
    "# Q5\n",
    "from sklearn.model_selection import train_test_split\n",
    "from sklearn.linear_model import LinearRegression,Ridge\n",
    "from sklearn.metrics import mean_squared_error\n",
    "import numpy  as np\n",
    "rmse_list = []\n",
    "for seed in [0, 1, 2, 3, 4, 5, 6, 7, 8, 9]:\n",
    "\n",
    "    train,test = train_test_split(df_file,test_size=0.4,shuffle=True,random_state=seed)\n",
    "    test,val = train_test_split(test,test_size=0.5,shuffle=True,random_state=seed)\n",
    "\n",
    "    train_fill0 = train.fillna(0)\n",
    "\n",
    "    train_y = train_fill0.median_house_value.values\n",
    "    train_X = train_fill0.drop('median_house_value',axis=1)\n",
    "\n",
    "    val0 = val.fillna(0)\n",
    "    val_y = val0.median_house_value.values\n",
    "    val_X = val0.drop('median_house_value',axis=1)\n",
    "    model_a = LinearRegression()\n",
    "    model_a = model_a.fit(train_X,train_y)\n",
    "    pred= model_a.predict(val_X)\n",
    "    rmseval = mean_squared_error(pred,val_y,squared=True)\n",
    "    rmse_list.append(rmseval)\n",
    "\n",
    "np.std(rmse_list).round(3)"
   ]
  },
  {
   "cell_type": "code",
   "execution_count": 52,
   "metadata": {},
   "outputs": [
    {
     "data": {
      "text/plain": [
       "0.12"
      ]
     },
     "execution_count": 52,
     "metadata": {},
     "output_type": "execute_result"
    }
   ],
   "source": [
    "# Q6\n",
    "from sklearn.model_selection import train_test_split\n",
    "from sklearn.linear_model import LinearRegression,Ridge\n",
    "from sklearn.metrics import mean_squared_error\n",
    "import numpy  as np\n",
    "\n",
    "\n",
    "train,test = train_test_split(df_file,test_size=0.4,shuffle=True,random_state=9)\n",
    "test,val = train_test_split(test,test_size=0.5,shuffle=True,random_state=9)\n",
    "\n",
    "\n",
    "\n",
    "train_y = pd.concat([train,val]).median_house_value.values\n",
    "train_X = pd.concat([train,val]).drop('median_house_value',axis=1)\n",
    "\n",
    "train_X= train_X.fillna(0)\n",
    "\n",
    "test_0 = test.fillna(0)\n",
    "test_y = test_0.median_house_value.values\n",
    "test_x = test_0.drop('median_house_value',axis=1)\n",
    "\n",
    "model_a = Ridge(alpha=0.01)\n",
    "model_a = model_a.fit(train_X,train_y)\n",
    "\n",
    "pred= model_a.predict(test_x)\n",
    "rmseval = mean_squared_error(pred,test_y,squared=True)\n",
    "rmseval.round(2)"
   ]
  }
 ],
 "metadata": {
  "kernelspec": {
   "display_name": "Python 3",
   "language": "python",
   "name": "python3"
  },
  "language_info": {
   "codemirror_mode": {
    "name": "ipython",
    "version": 3
   },
   "file_extension": ".py",
   "mimetype": "text/x-python",
   "name": "python",
   "nbconvert_exporter": "python",
   "pygments_lexer": "ipython3",
   "version": "3.9.7"
  },
  "orig_nbformat": 4
 },
 "nbformat": 4,
 "nbformat_minor": 2
}
