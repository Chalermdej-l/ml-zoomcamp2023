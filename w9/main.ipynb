{
 "cells": [
  {
   "cell_type": "code",
   "execution_count": 106,
   "metadata": {},
   "outputs": [],
   "source": [
    "import tensorflow as tf\n",
    "from tensorflow import keras\n"
   ]
  },
  {
   "cell_type": "code",
   "execution_count": 109,
   "metadata": {},
   "outputs": [
    {
     "data": {
      "text/plain": [
       "43.8143681640625"
      ]
     },
     "execution_count": 109,
     "metadata": {},
     "output_type": "execute_result"
    }
   ],
   "source": [
    "# Q1\n",
    "model = tf.keras.models.load_model('bees-wasps.h5', compile=False)\n",
    "converter = tf.lite.TFLiteConverter.from_keras_model(model)\n",
    "\n",
    "tflite_model =converter.convert()\n",
    "\n",
    "with open('convertmodel.tflite','wb') as f:\n",
    "    f.write(tflite_model)\n",
    "tflite_model.__sizeof__() / 1024000"
   ]
  },
  {
   "cell_type": "code",
   "execution_count": 111,
   "metadata": {},
   "outputs": [],
   "source": [
    "# Q2\n",
    "lite_model = tf.lite.Interpreter('convertmodel.tflite')\n",
    "lite_model.allocate_tensors()\n",
    "# lite_model.get_output_details()\n",
    "\n",
    "input_indx = lite_model.get_input_details()[0]['index']\n",
    "output_index = lite_model.get_output_details()[0]['index']\n"
   ]
  },
  {
   "cell_type": "code",
   "execution_count": 115,
   "metadata": {},
   "outputs": [
    {
     "data": {
      "text/plain": [
       "[{'name': 'conv2d_input',\n",
       "  'index': 0,\n",
       "  'shape': array([  1, 150, 150,   3]),\n",
       "  'shape_signature': array([ -1, 150, 150,   3]),\n",
       "  'dtype': numpy.float32,\n",
       "  'quantization': (0.0, 0),\n",
       "  'quantization_parameters': {'scales': array([], dtype=float32),\n",
       "   'zero_points': array([], dtype=int32),\n",
       "   'quantized_dimension': 0},\n",
       "  'sparsity_parameters': {}}]"
      ]
     },
     "execution_count": 115,
     "metadata": {},
     "output_type": "execute_result"
    }
   ],
   "source": [
    "lite_model.get_input_details()"
   ]
  },
  {
   "cell_type": "code",
   "execution_count": 125,
   "metadata": {},
   "outputs": [
    {
     "data": {
      "text/plain": [
       "0.35420817"
      ]
     },
     "execution_count": 125,
     "metadata": {},
     "output_type": "execute_result"
    }
   ],
   "source": [
    "# Q3\n",
    "from io import BytesIO\n",
    "from urllib import request\n",
    "import numpy as np\n",
    "from PIL import Image\n",
    "from tensorflow.keras.preprocessing.image import ImageDataGenerator\n",
    "def download_image(url):\n",
    "    with request.urlopen(url) as resp:\n",
    "        buffer = resp.read()\n",
    "    stream = BytesIO(buffer)\n",
    "    img = Image.open(stream)\n",
    "    return img\n",
    "\n",
    "\n",
    "def prepare_image(img, target_size):\n",
    "    if img.mode != 'RGB':\n",
    "        img = img.convert('RGB')\n",
    "    img = img.resize(target_size, Image.NEAREST)\n",
    "    return img\n",
    "img = download_image('https://habrastorage.org/webt/rt/d9/dh/rtd9dhsmhwrdezeldzoqgijdg8a.jpeg')\n",
    "prep_img = prepare_image(img,[150,150])\n",
    "\n",
    "def preprocess(x):\n",
    "    x /=127.5\n",
    "    x -=1.\n",
    "    return x\n",
    "\n",
    "\n",
    "num_img = np.array(prep_img,dtype='float32')\n",
    "\n",
    "preprocess(num_img)\n",
    "\n",
    "train_gen = ImageDataGenerator()\n",
    "pre_img = train_gen.apply_transform(num_img,transform_parameters={\n",
    "'theta':50,\n",
    "'tx':0.1,\n",
    "'ty':0.1,\n",
    "'zx':0.1,\n",
    "'zy':0.1,\n",
    "'flip_horizontal':True \n",
    "})\n",
    "pre_img = np.array([pre_img])\n",
    "pre_img[0][0][0][0]"
   ]
  },
  {
   "cell_type": "code",
   "execution_count": 130,
   "metadata": {},
   "outputs": [
    {
     "data": {
      "text/plain": [
       "0.48443806"
      ]
     },
     "execution_count": 130,
     "metadata": {},
     "output_type": "execute_result"
    }
   ],
   "source": [
    "# Q4\n",
    "\n",
    "lite_model.set_tensor(input_indx,pre_img)\n",
    "lite_model.invoke()\n",
    "prep = lite_model.get_tensor(output_index)\n",
    "prep[0][0]"
   ]
  },
  {
   "cell_type": "code",
   "execution_count": 143,
   "metadata": {},
   "outputs": [
    {
     "name": "stdout",
     "output_type": "stream",
     "text": [
      "REPOSITORY                      TAG       IMAGE ID       CREATED      SIZE\n",
      "agrigorev/zoomcamp-bees-wasps   v2        b9f6c13de368   8 days ago   662MB\n"
     ]
    }
   ],
   "source": [
    "%%bash\n",
    "# Q5\n",
    "docker images"
   ]
  },
  {
   "cell_type": "code",
   "execution_count": 144,
   "metadata": {},
   "outputs": [
    {
     "data": {
      "text/plain": [
       "<Response [404]>"
      ]
     },
     "execution_count": 144,
     "metadata": {},
     "output_type": "execute_result"
    }
   ],
   "source": [
    "# Q6\n",
    "0.5164256"
   ]
  }
 ],
 "metadata": {
  "kernelspec": {
   "display_name": "Python 3",
   "language": "python",
   "name": "python3"
  },
  "language_info": {
   "codemirror_mode": {
    "name": "ipython",
    "version": 3
   },
   "file_extension": ".py",
   "mimetype": "text/x-python",
   "name": "python",
   "nbconvert_exporter": "python",
   "pygments_lexer": "ipython3",
   "version": "3.9.7"
  }
 },
 "nbformat": 4,
 "nbformat_minor": 2
}
