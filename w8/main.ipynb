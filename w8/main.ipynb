{
 "cells": [
  {
   "cell_type": "code",
   "execution_count": 161,
   "metadata": {},
   "outputs": [],
   "source": [
    "from tensorflow.keras.preprocessing.image import ImageDataGenerator\n",
    "import tensorflow as  tf\n",
    "from tensorflow import keras\n",
    "import numpy as np"
   ]
  },
  {
   "cell_type": "code",
   "execution_count": 226,
   "metadata": {},
   "outputs": [
    {
     "name": "stdout",
     "output_type": "stream",
     "text": [
      "Found 3677 images belonging to 2 classes.\n",
      "Found 918 images belonging to 2 classes.\n"
     ]
    }
   ],
   "source": [
    "train_gen = ImageDataGenerator(rescale=1./255)\n",
    "train_ds = train_gen.flow_from_directory(\n",
    "    './data/train',\n",
    "    target_size=(150, 150),\n",
    "    batch_size=20,\n",
    "    class_mode='binary',\n",
    "    shuffle=True\n",
    ")\n",
    "# train_x, train_y = next(train_ds)\n",
    "# train_y = train_y[:,0]\n",
    "test_gen = ImageDataGenerator(rescale=1./255)\n",
    "test_ds = test_gen.flow_from_directory(\n",
    "    './data/test',\n",
    "    target_size=(150, 150),\n",
    "    batch_size=20,\n",
    "    class_mode='binary',\n",
    "    shuffle=True\n",
    ")\n",
    "# test_x, test_y = next(test_ds)\n",
    "# test_y = test_y[:,0]\n"
   ]
  },
  {
   "cell_type": "code",
   "execution_count": 227,
   "metadata": {},
   "outputs": [
    {
     "data": {
      "text/plain": [
       "{'bee': 0, 'wasp': 1}"
      ]
     },
     "execution_count": 227,
     "metadata": {},
     "output_type": "execute_result"
    }
   ],
   "source": [
    "train_ds.class_indices"
   ]
  },
  {
   "cell_type": "code",
   "execution_count": 228,
   "metadata": {},
   "outputs": [],
   "source": [
    "model = keras.models.Sequential()\n",
    "\n",
    "model.add(keras.layers.Conv2D(kernel_size=(3,3),filters=32,activation='relu'))\n",
    "model.add(keras.layers.MaxPooling2D( pool_size=(2, 2)))\n",
    "model.add(keras.layers.Flatten())\n",
    "model.add(keras.layers.Dense(64,activation='relu'))\n",
    "model.add(keras.layers.Dense(1,activation='sigmoid'))\n",
    "\n",
    "optermize = keras.optimizers.SGD(learning_rate=0.002,  momentum=0.8)\n",
    "loss = keras.losses.BinaryCrossentropy()\n",
    "metric = keras.metrics.BinaryAccuracy()\n",
    "model.compile(optimizer=optermize,loss=loss,metrics=[metric])\n",
    "# model.build()\n",
    "# model.fit(train_x,train_y)"
   ]
  },
  {
   "cell_type": "code",
   "execution_count": 216,
   "metadata": {},
   "outputs": [],
   "source": [
    "# Q1\n",
    "# binary crossentropy"
   ]
  },
  {
   "cell_type": "code",
   "execution_count": 222,
   "metadata": {},
   "outputs": [
    {
     "name": "stdout",
     "output_type": "stream",
     "text": [
      "Model: \"sequential_11\"\n",
      "_________________________________________________________________\n",
      " Layer (type)                Output Shape              Param #   \n",
      "=================================================================\n",
      " conv2d_15 (Conv2D)          (None, 148, 148, 32)      896       \n",
      "                                                                 \n",
      " max_pooling2d_13 (MaxPoolin  (None, 74, 74, 32)       0         \n",
      " g2D)                                                            \n",
      "                                                                 \n",
      " flatten_12 (Flatten)        (None, 175232)            0         \n",
      "                                                                 \n",
      " dense_29 (Dense)            (None, 64)                11214912  \n",
      "                                                                 \n",
      " dense_30 (Dense)            (None, 1)                 65        \n",
      "                                                                 \n",
      "=================================================================\n",
      "Total params: 11,215,873\n",
      "Trainable params: 11,215,873\n",
      "Non-trainable params: 0\n",
      "_________________________________________________________________\n"
     ]
    }
   ],
   "source": [
    "# Q2\n",
    "model.summary()"
   ]
  },
  {
   "cell_type": "code",
   "execution_count": 229,
   "metadata": {},
   "outputs": [
    {
     "name": "stdout",
     "output_type": "stream",
     "text": [
      "Epoch 1/10\n",
      "184/184 [==============================] - 5s 24ms/step - loss: 0.6959 - binary_accuracy: 0.5295 - val_loss: 0.6898 - val_binary_accuracy: 0.5370\n",
      "Epoch 2/10\n",
      "184/184 [==============================] - 4s 24ms/step - loss: 0.6872 - binary_accuracy: 0.5379 - val_loss: 0.6752 - val_binary_accuracy: 0.5370\n",
      "Epoch 3/10\n",
      "184/184 [==============================] - 4s 24ms/step - loss: 0.6705 - binary_accuracy: 0.5496 - val_loss: 0.7676 - val_binary_accuracy: 0.5370\n",
      "Epoch 4/10\n",
      "184/184 [==============================] - 5s 25ms/step - loss: 0.6526 - binary_accuracy: 0.6144 - val_loss: 0.6108 - val_binary_accuracy: 0.6688\n",
      "Epoch 5/10\n",
      "184/184 [==============================] - 5s 24ms/step - loss: 0.6277 - binary_accuracy: 0.6448 - val_loss: 0.5924 - val_binary_accuracy: 0.6710\n",
      "Epoch 6/10\n",
      "184/184 [==============================] - 5s 24ms/step - loss: 0.5808 - binary_accuracy: 0.6984 - val_loss: 0.5558 - val_binary_accuracy: 0.7200\n",
      "Epoch 7/10\n",
      "184/184 [==============================] - 4s 24ms/step - loss: 0.5426 - binary_accuracy: 0.7294 - val_loss: 0.5317 - val_binary_accuracy: 0.7255\n",
      "Epoch 8/10\n",
      "184/184 [==============================] - 4s 24ms/step - loss: 0.5174 - binary_accuracy: 0.7601 - val_loss: 0.5600 - val_binary_accuracy: 0.7048\n",
      "Epoch 9/10\n",
      "184/184 [==============================] - 4s 24ms/step - loss: 0.5073 - binary_accuracy: 0.7707 - val_loss: 0.5319 - val_binary_accuracy: 0.7451\n",
      "Epoch 10/10\n",
      "184/184 [==============================] - 4s 24ms/step - loss: 0.4919 - binary_accuracy: 0.7710 - val_loss: 0.5309 - val_binary_accuracy: 0.7603\n"
     ]
    }
   ],
   "source": [
    "# Q3\n",
    "history =model.fit(\n",
    "    train_ds,\n",
    "    epochs=10,\n",
    "    validation_data=test_ds\n",
    ")"
   ]
  },
  {
   "cell_type": "code",
   "execution_count": 232,
   "metadata": {},
   "outputs": [
    {
     "data": {
      "text/plain": [
       "0.6716072857379913"
      ]
     },
     "execution_count": 232,
     "metadata": {},
     "output_type": "execute_result"
    }
   ],
   "source": [
    "np.median(history.history['binary_accuracy'])"
   ]
  },
  {
   "cell_type": "code",
   "execution_count": 237,
   "metadata": {},
   "outputs": [
    {
     "data": {
      "text/plain": [
       "0.07483239982993635"
      ]
     },
     "execution_count": 237,
     "metadata": {},
     "output_type": "execute_result"
    }
   ],
   "source": [
    "# Q4\n",
    "np.std(history.history['loss'])"
   ]
  },
  {
   "cell_type": "code",
   "execution_count": 240,
   "metadata": {},
   "outputs": [
    {
     "name": "stdout",
     "output_type": "stream",
     "text": [
      "Found 3677 images belonging to 2 classes.\n",
      "Epoch 1/10\n",
      "184/184 [==============================] - 14s 78ms/step - loss: 0.5322 - binary_accuracy: 0.7569 - val_loss: 0.5202 - val_binary_accuracy: 0.7429\n",
      "Epoch 2/10\n",
      "184/184 [==============================] - 14s 77ms/step - loss: 0.5283 - binary_accuracy: 0.7552 - val_loss: 0.5421 - val_binary_accuracy: 0.7244\n",
      "Epoch 3/10\n",
      "184/184 [==============================] - 15s 81ms/step - loss: 0.5096 - binary_accuracy: 0.7626 - val_loss: 0.5156 - val_binary_accuracy: 0.7691\n",
      "Epoch 4/10\n",
      "184/184 [==============================] - 16s 87ms/step - loss: 0.5055 - binary_accuracy: 0.7721 - val_loss: 0.5530 - val_binary_accuracy: 0.7211\n",
      "Epoch 5/10\n",
      "184/184 [==============================] - 17s 92ms/step - loss: 0.5043 - binary_accuracy: 0.7686 - val_loss: 0.4884 - val_binary_accuracy: 0.7832\n",
      "Epoch 6/10\n",
      "184/184 [==============================] - 14s 78ms/step - loss: 0.4969 - binary_accuracy: 0.7694 - val_loss: 0.4938 - val_binary_accuracy: 0.7636\n",
      "Epoch 7/10\n",
      "184/184 [==============================] - 14s 78ms/step - loss: 0.4870 - binary_accuracy: 0.7764 - val_loss: 0.4806 - val_binary_accuracy: 0.7669\n",
      "Epoch 8/10\n",
      "184/184 [==============================] - 14s 77ms/step - loss: 0.4843 - binary_accuracy: 0.7748 - val_loss: 0.5852 - val_binary_accuracy: 0.7222\n",
      "Epoch 9/10\n",
      "184/184 [==============================] - 14s 76ms/step - loss: 0.4758 - binary_accuracy: 0.7808 - val_loss: 0.4750 - val_binary_accuracy: 0.7723\n",
      "Epoch 10/10\n",
      "184/184 [==============================] - 14s 77ms/step - loss: 0.4719 - binary_accuracy: 0.7862 - val_loss: 0.5241 - val_binary_accuracy: 0.7527\n"
     ]
    }
   ],
   "source": [
    "# Q5\n",
    "train_gen = ImageDataGenerator(rescale=1./255,\n",
    "rotation_range=50,\n",
    "width_shift_range=0.1,\n",
    "height_shift_range=0.1,\n",
    "zoom_range=0.1,\n",
    "horizontal_flip=True,\n",
    "fill_mode='nearest'                       \n",
    "                               \n",
    "                               )\n",
    "train_ds = train_gen.flow_from_directory(\n",
    "    './data/train',\n",
    "    target_size=(150, 150),\n",
    "    batch_size=20,\n",
    "    class_mode='binary',\n",
    "    shuffle=True\n",
    ")\n",
    "\n",
    "history =model.fit(\n",
    "    train_ds,\n",
    "    epochs=10,\n",
    "    validation_data=test_ds\n",
    ")"
   ]
  },
  {
   "cell_type": "code",
   "execution_count": 244,
   "metadata": {},
   "outputs": [
    {
     "data": {
      "text/plain": [
       "0.5177886188030243"
      ]
     },
     "execution_count": 244,
     "metadata": {},
     "output_type": "execute_result"
    }
   ],
   "source": [
    "# Q5\n",
    "np.mean(history.history['val_loss'])"
   ]
  },
  {
   "cell_type": "code",
   "execution_count": 252,
   "metadata": {},
   "outputs": [
    {
     "data": {
      "text/plain": [
       "0.7555555582046509"
      ]
     },
     "execution_count": 252,
     "metadata": {},
     "output_type": "execute_result"
    }
   ],
   "source": [
    "# Q6\n",
    "np.average(history.history['val_binary_accuracy'][5:])"
   ]
  }
 ],
 "metadata": {
  "kernelspec": {
   "display_name": "Python 3",
   "language": "python",
   "name": "python3"
  },
  "language_info": {
   "codemirror_mode": {
    "name": "ipython",
    "version": 3
   },
   "file_extension": ".py",
   "mimetype": "text/x-python",
   "name": "python",
   "nbconvert_exporter": "python",
   "pygments_lexer": "ipython3",
   "version": "3.9.7"
  }
 },
 "nbformat": 4,
 "nbformat_minor": 2
}
