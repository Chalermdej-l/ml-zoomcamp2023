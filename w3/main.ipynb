{
 "cells": [
  {
   "cell_type": "code",
   "execution_count": null,
   "metadata": {},
   "outputs": [],
   "source": [
    "import pandas as pd"
   ]
  },
  {
   "cell_type": "code",
   "execution_count": null,
   "metadata": {},
   "outputs": [],
   "source": [
    "col_used = [\n",
    "'Make',\n",
    "'Model',\n",
    "'Year',\n",
    "'Engine HP',\n",
    "'Engine Cylinders',\n",
    "'Transmission Type',\n",
    "'Vehicle Style',\n",
    "'highway MPG',\n",
    "'city mpg',\n",
    "'MSRP'\n",
    "]"
   ]
  },
  {
   "cell_type": "code",
   "execution_count": null,
   "metadata": {},
   "outputs": [],
   "source": [
    "df = pd.read_csv('data.csv')\n",
    "df_fil = df[col_used]\n",
    "df_fil.columns = df_fil.columns.str.replace(' ', '_').str.lower()\n",
    "df_fil.rename({'msrp':'price'},axis=1,inplace=True)"
   ]
  },
  {
   "cell_type": "code",
   "execution_count": null,
   "metadata": {},
   "outputs": [],
   "source": [
    "# Q1\n",
    "df_fil.groupby('transmission_type').count()"
   ]
  },
  {
   "cell_type": "code",
   "execution_count": null,
   "metadata": {},
   "outputs": [],
   "source": [
    "# Q2\n",
    "import seaborn as sns\n",
    "df_fil.dtypes[df_fil.dtypes != 'object'].index\n",
    "df_cor = df_fil[df_fil.dtypes[df_fil.dtypes != 'object'].index]\n",
    "sns.heatmap(df_cor.corr(),annot=True)"
   ]
  },
  {
   "cell_type": "code",
   "execution_count": null,
   "metadata": {},
   "outputs": [],
   "source": [
    "from sklearn.model_selection import train_test_split\n",
    "avg_price = df_fil.price.mean()\n",
    "df_fil['above_average'] = (df_fil.price>avg_price).astype('int')\n",
    "\n",
    "\n"
   ]
  },
  {
   "cell_type": "code",
   "execution_count": null,
   "metadata": {},
   "outputs": [],
   "source": [
    "x_train"
   ]
  },
  {
   "cell_type": "code",
   "execution_count": null,
   "metadata": {},
   "outputs": [],
   "source": [
    "# Q3\n",
    "from sklearn.metrics import mutual_info_score\n",
    "\n",
    "df_split = df_fil.drop('price',axis=1)\n",
    "train,_ = train_test_split(df_split.fillna(0),test_size=0.4,random_state=42)\n",
    "test,val = train_test_split(_,test_size=0.5,random_state=42)\n",
    "\n",
    "x_train = train.drop('above_average',axis=1)\n",
    "y_train = train.above_average\n",
    "\n",
    "x_test = test.drop('above_average',axis=1)\n",
    "y_test = test.above_average\n",
    "\n",
    "x_val = val.drop('above_average',axis=1)\n",
    "y_val = val.above_average\n",
    "\n",
    "cat_col = x_train.columns\n",
    "score_para = {}\n",
    "for i in cat_col:\n",
    "    print(i)\n",
    "    score = mutual_info_score(y_train,x_train[i]).round(2)\n",
    "    print(score)\n",
    "    print('----')\n",
    "    score_para[i] = score\n",
    "\n"
   ]
  },
  {
   "cell_type": "code",
   "execution_count": null,
   "metadata": {},
   "outputs": [],
   "source": [
    "# Q4\n",
    "from sklearn.linear_model import LogisticRegression\n",
    "from sklearn.feature_extraction import DictVectorizer\n",
    "from sklearn.metrics import accuracy_score\n",
    "dv = DictVectorizer()\n",
    "x_train= dv.fit_transform(x_train.to_dict(orient='records'))\n",
    "model = LogisticRegression(solver='liblinear', C=10, max_iter=1000, random_state=42)\n",
    "model.fit(x_train,y_train)\n",
    "x_val = dv.transform(x_val.to_dict(orient='records'))\n",
    "pred = model.predict(x_val)\n",
    "acc_main = accuracy_score(y_val,pred)\n",
    "acc_main"
   ]
  },
  {
   "cell_type": "code",
   "execution_count": null,
   "metadata": {},
   "outputs": [],
   "source": [
    "list(score_para.keys())"
   ]
  },
  {
   "cell_type": "code",
   "execution_count": null,
   "metadata": {},
   "outputs": [],
   "source": [
    "# Q5\n",
    "df_split = df_fil.drop('price',axis=1).fillna(0)\n",
    "\n",
    "score_drop = []\n",
    "for para in score_para.keys():\n",
    "    train,_ = train_test_split(df_split.drop(para,axis=1),test_size=0.4,random_state=42)\n",
    "    test,val = train_test_split(_,test_size=0.5,random_state=42)\n",
    "\n",
    "    x_train = train.drop('above_average',axis=1)\n",
    "    y_train = train.above_average\n",
    "\n",
    "    x_test = test.drop('above_average',axis=1)\n",
    "    y_test = test.above_average\n",
    "\n",
    "    x_val = val.drop('above_average',axis=1)\n",
    "    y_val = val.above_average\n",
    "\n",
    "\n",
    "    dv = DictVectorizer()\n",
    "    x_train= dv.fit_transform(x_train.to_dict(orient='records'))\n",
    "    model = LogisticRegression(solver='liblinear', C=10, max_iter=1000, random_state=42)\n",
    "    model.fit(x_train,y_train)\n",
    "    x_val = dv.transform(x_val.to_dict(orient='records'))\n",
    "    pred = model.predict(x_val)\n",
    "    acc = accuracy_score(y_val,pred)\n",
    "\n",
    "    score_drop.append([para,acc_main - acc])\n",
    "pd.DataFrame(score_drop,columns=['para','acc']).sort_values('acc')"
   ]
  },
  {
   "cell_type": "code",
   "execution_count": 159,
   "metadata": {},
   "outputs": [
    {
     "name": "stdout",
     "output_type": "stream",
     "text": [
      "0\n",
      "0.94\n",
      "----\n",
      "0.01\n",
      "0.941\n",
      "----\n",
      "0.1\n",
      "0.94\n",
      "----\n",
      "1\n",
      "0.94\n",
      "----\n",
      "10\n",
      "0.935\n",
      "----\n"
     ]
    }
   ],
   "source": [
    "from sklearn.linear_model import RidgeClassifier\n",
    "\n",
    "train,_ = train_test_split(df_split,test_size=0.4,random_state=42)\n",
    "test,val = train_test_split(_,test_size=0.5,random_state=42)\n",
    "\n",
    "x_train = train.drop('above_average',axis=1)\n",
    "y_train = train.above_average\n",
    "\n",
    "x_test = test.drop('above_average',axis=1)\n",
    "y_test = test.above_average\n",
    "\n",
    "x_val = val.drop('above_average',axis=1)\n",
    "y_val = val.above_average\n",
    "\n",
    "dv = DictVectorizer()\n",
    "x_train= dv.fit_transform(x_train.to_dict(orient='records'))\n",
    "x_val = dv.transform(x_val.to_dict(orient='records'))\n",
    "for a in [0, 0.01, 0.1, 1, 10]:   \n",
    "    model = RidgeClassifier(solver='sag',alpha=a, random_state=42)\n",
    "    model.fit(x_train,y_train)\n",
    "    pred = model.predict(x_val)\n",
    "    acc = accuracy_score(y_val,pred)\n",
    "    print(a)\n",
    "    print(acc.round(3))\n",
    "    print('----')\n"
   ]
  }
 ],
 "metadata": {
  "kernelspec": {
   "display_name": "Python 3",
   "language": "python",
   "name": "python3"
  },
  "language_info": {
   "codemirror_mode": {
    "name": "ipython",
    "version": 3
   },
   "file_extension": ".py",
   "mimetype": "text/x-python",
   "name": "python",
   "nbconvert_exporter": "python",
   "pygments_lexer": "ipython3",
   "version": "3.9.7"
  },
  "orig_nbformat": 4
 },
 "nbformat": 4,
 "nbformat_minor": 2
}
